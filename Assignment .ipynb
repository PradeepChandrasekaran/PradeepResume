{
  "nbformat": 4,
  "nbformat_minor": 0,
  "metadata": {
    "colab": {
      "name": "Tensor_operation_Pytorch.ipynb",
      "provenance": [],
      "authorship_tag": "ABX9TyPbHMtoXj2ij/OMdoK29VgJ",
      "include_colab_link": true
    },
    "kernelspec": {
      "name": "python3",
      "display_name": "Python 3"
    },
    "language_info": {
      "name": "python"
    }
  },
  "cells": [
    {
      "cell_type": "markdown",
      "metadata": {
        "id": "view-in-github",
        "colab_type": "text"
      },
      "source": [
        "<a href=\"https://colab.research.google.com/github/PradeepChandrasekaran/PradeepResume/blob/main/Assignment%20.ipynb\" target=\"_parent\"><img src=\"https://colab.research.google.com/assets/colab-badge.svg\" alt=\"Open In Colab\"/></a>"
      ]
    },
    {
      "cell_type": "code",
      "source": [
        "import torch"
      ],
      "metadata": {
        "id": "Dr_0e2jk7B97"
      },
      "execution_count": 2,
      "outputs": []
    },
    {
      "cell_type": "code",
      "source": [
        "def fliplr(input):\n",
        "  if(len(list(input.shape))>=2):\n",
        "    list1=list(torch.split(input,1,1))\n",
        "    list1.reverse()\n",
        "    return torch.cat(list1,1)\n",
        "  return \"Input must be >=2 Dimension\"\n",
        "\n",
        "  \n",
        "x = torch.arange(4).view(2, 2)\n",
        "print(fliplr(x))\n",
        "print(torch.fliplr(x))\n",
        "\n",
        "\n",
        "x = torch.arange(18).view(2, 3,3)\n",
        "print(fliplr(x))\n",
        "print(torch.fliplr(x))\n",
        "\n",
        "\n",
        "x=torch.arange(30).view(3,2,5)\n",
        "print(fliplr(x))\n",
        "print(torch.fliplr(x))\n",
        "\n",
        "\n",
        "x = torch.arange(18).view(2, 3,3)\n",
        "print(fliplr(x))\n",
        "print(torch.fliplr(x))\n",
        "\n",
        "\n",
        "print(\"Exception case\")\n",
        "x = torch.arange(4)\n",
        "print(fliplr(x))"
      ],
      "metadata": {
        "id": "1CXTXrOU0b-S",
        "outputId": "dde16d14-1a91-41f0-9303-8b658089ac98",
        "colab": {
          "base_uri": "https://localhost:8080/"
        }
      },
      "execution_count": 3,
      "outputs": [
        {
          "output_type": "stream",
          "name": "stdout",
          "text": [
            "tensor([[1, 0],\n",
            "        [3, 2]])\n",
            "tensor([[1, 0],\n",
            "        [3, 2]])\n",
            "tensor([[[ 6,  7,  8],\n",
            "         [ 3,  4,  5],\n",
            "         [ 0,  1,  2]],\n",
            "\n",
            "        [[15, 16, 17],\n",
            "         [12, 13, 14],\n",
            "         [ 9, 10, 11]]])\n",
            "tensor([[[ 6,  7,  8],\n",
            "         [ 3,  4,  5],\n",
            "         [ 0,  1,  2]],\n",
            "\n",
            "        [[15, 16, 17],\n",
            "         [12, 13, 14],\n",
            "         [ 9, 10, 11]]])\n",
            "tensor([[[ 5,  6,  7,  8,  9],\n",
            "         [ 0,  1,  2,  3,  4]],\n",
            "\n",
            "        [[15, 16, 17, 18, 19],\n",
            "         [10, 11, 12, 13, 14]],\n",
            "\n",
            "        [[25, 26, 27, 28, 29],\n",
            "         [20, 21, 22, 23, 24]]])\n",
            "tensor([[[ 5,  6,  7,  8,  9],\n",
            "         [ 0,  1,  2,  3,  4]],\n",
            "\n",
            "        [[15, 16, 17, 18, 19],\n",
            "         [10, 11, 12, 13, 14]],\n",
            "\n",
            "        [[25, 26, 27, 28, 29],\n",
            "         [20, 21, 22, 23, 24]]])\n",
            "tensor([[[ 6,  7,  8],\n",
            "         [ 3,  4,  5],\n",
            "         [ 0,  1,  2]],\n",
            "\n",
            "        [[15, 16, 17],\n",
            "         [12, 13, 14],\n",
            "         [ 9, 10, 11]]])\n",
            "tensor([[[ 6,  7,  8],\n",
            "         [ 3,  4,  5],\n",
            "         [ 0,  1,  2]],\n",
            "\n",
            "        [[15, 16, 17],\n",
            "         [12, 13, 14],\n",
            "         [ 9, 10, 11]]])\n",
            "Exception case\n",
            "Input must be >=2 Dimension\n"
          ]
        }
      ]
    },
    {
      "cell_type": "code",
      "source": [
        "def fmod(input,other,out=None):\n",
        "  rem=torch.remainder(torch.abs(input), torch.abs(other))\n",
        "  sign_tensor=torch.sign(input)\n",
        "  return torch.mul(rem,sign_tensor)\n",
        "input=torch.rand(3,4)\n",
        "other=torch.tensor(5)\n",
        "print(fmod(input,other))\n",
        "print(torch.fmod(input,other))\n",
        "\n",
        "\n",
        "input=torch.rand(3,4)\n",
        "other=torch.rand(3,4)\n",
        "print(fmod(input,other))\n",
        "print(torch.fmod(input,other))\n",
        "\n",
        "\n",
        "input=torch.tensor([1,-2,3,-4,5,6,-7,8]).to(torch.int32)\n",
        "other=torch.tensor(2).to(torch.int32)\n",
        "print(fmod(input,other))\n",
        "print(torch.fmod(input,other))\n",
        "\n",
        "\n",
        "input=torch.arange(51,69).to(torch.int32)\n",
        "other=torch.arange(1,19).to(torch.int32)\n",
        "print(fmod(input,other))\n",
        "print(torch.fmod(input,other))"
      ],
      "metadata": {
        "id": "xWFtl__o0tyy",
        "outputId": "17ea9965-5bb1-4c9d-e0f8-cb803363203f",
        "colab": {
          "base_uri": "https://localhost:8080/"
        }
      },
      "execution_count": 4,
      "outputs": [
        {
          "output_type": "stream",
          "name": "stdout",
          "text": [
            "tensor([[0.0289, 0.1215, 0.5582, 0.5603],\n",
            "        [0.9609, 0.3385, 0.3006, 0.5138],\n",
            "        [0.0491, 0.0208, 0.0702, 0.4893]])\n",
            "tensor([[0.0289, 0.1215, 0.5582, 0.5603],\n",
            "        [0.9609, 0.3385, 0.3006, 0.5138],\n",
            "        [0.0491, 0.0208, 0.0702, 0.4893]])\n",
            "tensor([[0.4376, 0.1717, 0.0887, 0.2449],\n",
            "        [0.0378, 0.2378, 0.2029, 0.7390],\n",
            "        [0.3514, 0.1535, 0.0466, 0.1586]])\n",
            "tensor([[0.4376, 0.1717, 0.0887, 0.2449],\n",
            "        [0.0378, 0.2378, 0.2029, 0.7390],\n",
            "        [0.3514, 0.1535, 0.0466, 0.1586]])\n",
            "tensor([ 1,  0,  1,  0,  1,  0, -1,  0], dtype=torch.int32)\n",
            "tensor([ 1,  0,  1,  0,  1,  0, -1,  0], dtype=torch.int32)\n",
            "tensor([ 0,  0,  2,  2,  0,  2,  1,  2,  5,  0,  6,  2, 11,  8,  5,  2, 16, 14],\n",
            "       dtype=torch.int32)\n",
            "tensor([ 0,  0,  2,  2,  0,  2,  1,  2,  5,  0,  6,  2, 11,  8,  5,  2, 16, 14],\n",
            "       dtype=torch.int32)\n"
          ]
        }
      ]
    },
    {
      "cell_type": "code",
      "source": [
        "def flip(input,dim):\n",
        "  for i in dim:\n",
        "    input=torch.split(input,1,i)\n",
        "    list1=list(input)\n",
        "    list1.reverse()\n",
        "    input=torch.cat(list1,i)\n",
        "  return input\n",
        "t=torch.arange(8).view(2, 2, 2)\n",
        "print(\"Original tensor\")\n",
        "print(t)\n",
        "print(\"created flip op\")\n",
        "print(flip(t, [0,1]))\n",
        "print(\"torch flip op\")\n",
        "print(torch.flip(t, [0,1]))\n",
        "\n",
        "\n",
        "t=torch.arange(10).reshape(2,5)\n",
        "print(\"Original tensor\")\n",
        "print(t)\n",
        "print(\"created flip op\")\n",
        "print(flip(t, [0,1]))\n",
        "print(\"torch flip op\")\n",
        "torch.flip(t, [0,1])"
      ],
      "metadata": {
        "id": "vzUN5gRYTdZK",
        "outputId": "eb9ee739-af93-4122-e2e6-aa3932485dd9",
        "colab": {
          "base_uri": "https://localhost:8080/"
        }
      },
      "execution_count": null,
      "outputs": [
        {
          "output_type": "stream",
          "name": "stdout",
          "text": [
            "Original tensor\n",
            "tensor([[[0, 1],\n",
            "         [2, 3]],\n",
            "\n",
            "        [[4, 5],\n",
            "         [6, 7]]])\n",
            "created flip op\n",
            "tensor([[[6, 7],\n",
            "         [4, 5]],\n",
            "\n",
            "        [[2, 3],\n",
            "         [0, 1]]])\n",
            "torch flip op\n",
            "tensor([[[6, 7],\n",
            "         [4, 5]],\n",
            "\n",
            "        [[2, 3],\n",
            "         [0, 1]]])\n",
            "Original tensor\n",
            "tensor([[0, 1, 2, 3, 4],\n",
            "        [5, 6, 7, 8, 9]])\n",
            "created flip op\n",
            "tensor([[9, 8, 7, 6, 5],\n",
            "        [4, 3, 2, 1, 0]])\n",
            "torch flip op\n"
          ]
        },
        {
          "output_type": "execute_result",
          "data": {
            "text/plain": [
              "tensor([[9, 8, 7, 6, 5],\n",
              "        [4, 3, 2, 1, 0]])"
            ]
          },
          "metadata": {},
          "execution_count": 4
        }
      ]
    },
    {
      "cell_type": "code",
      "source": [
        "def masked_select(input, mask, out=None):\n",
        "   mask = mask.type(torch.float)\n",
        "   input = torch.flatten(torch.mul(mask,input))\n",
        "   out=torch.flatten(input[input.nonzero()])\n",
        "   return out\n",
        "x = torch.tensor([[ 0.3552, -2.3825, -0.8297,  0.3477],\n",
        "        [-1.2035,  1.2252,  0.5002,  0.6248],\n",
        "        [ 0.1307, -2.0608,  0.1244,  2.0139]])\n",
        "print(\"Input Tensor\")\n",
        "print(x)\n",
        "mask = x.ge(0.5)\n",
        "print(mask)\n",
        "print(\"created Masked_select op\")\n",
        "print(masked_select(x,mask))\n",
        "print(\"torch Masked_select op\")\n",
        "print(torch.masked_select(x,mask))"
      ],
      "metadata": {
        "id": "pNmkq7PZU8vG",
        "outputId": "67120e4d-3d1e-4e28-bf7c-f15586d1d24a",
        "colab": {
          "base_uri": "https://localhost:8080/"
        }
      },
      "execution_count": null,
      "outputs": [
        {
          "output_type": "stream",
          "name": "stdout",
          "text": [
            "Input Tensor\n",
            "tensor([[ 0.3552, -2.3825, -0.8297,  0.3477],\n",
            "        [-1.2035,  1.2252,  0.5002,  0.6248],\n",
            "        [ 0.1307, -2.0608,  0.1244,  2.0139]])\n",
            "tensor([[False, False, False, False],\n",
            "        [False,  True,  True,  True],\n",
            "        [False, False, False,  True]])\n",
            "created Masked_select op\n",
            "tensor([1.2252, 0.5002, 0.6248, 2.0139])\n",
            "torch Masked_select op\n",
            "tensor([1.2252, 0.5002, 0.6248, 2.0139])\n"
          ]
        }
      ]
    },
    {
      "cell_type": "code",
      "source": [
        "def split_cat_op(input_tensor,n,dim):\n",
        "      tensor_split_tuple=torch.split(input_tensor,1,dim)\n",
        "      return torch.cat((tensor_split_tuple[-n:]+tensor_split_tuple[:-n]),dim) \n",
        "def roll(input_tensor,shifts, dims=None):\n",
        "      if(type(shifts)==int):\n",
        "          return split_cat_op(input_tensor,shifts,dims)\n",
        "      if(type(shifts)==tuple):\n",
        "          for shift,dim in zip(shifts,dims):\n",
        "            input_tensor=split_cat_op(input_tensor,shift,dim)\n",
        "          return input_tensor;\n",
        "x = torch.tensor([1, 2, 3, 4, 5, 6, 7, 8]).view(4, 2)\n",
        "print(\"created roll op\")\n",
        "print(roll(x, 1, 0))\n",
        "print(\"Torch roll op\")\n",
        "print(torch.roll(x, 1, 0))\n",
        "\n",
        "print(\"\\n\\n\")\n",
        "\n",
        "print(\"created roll op\")\n",
        "print(roll(x, -1, 0))\n",
        "print(\"Torch roll op\")\n",
        "print(torch.roll(x, -1, 0))\n",
        "\n",
        "print(\"\\n\\n\")\n",
        "\n",
        "print(\"created roll op\")\n",
        "print(roll(x, shifts=(2, 1), dims=(0, 1)))\n",
        "print(\"Torch roll op\")\n",
        "print(torch.roll(x, shifts=(2, 1), dims=(0, 1)))"
      ],
      "metadata": {
        "colab": {
          "base_uri": "https://localhost:8080/"
        },
        "id": "dt3CsQjjiRr6",
        "outputId": "53a69e05-b587-4ee2-ac6f-147760ed28f9"
      },
      "execution_count": null,
      "outputs": [
        {
          "output_type": "stream",
          "name": "stdout",
          "text": [
            "created roll op\n",
            "tensor([[7, 8],\n",
            "        [1, 2],\n",
            "        [3, 4],\n",
            "        [5, 6]])\n",
            "Torch roll op\n",
            "tensor([[7, 8],\n",
            "        [1, 2],\n",
            "        [3, 4],\n",
            "        [5, 6]])\n",
            "\n",
            "\n",
            "\n",
            "created roll op\n",
            "tensor([[3, 4],\n",
            "        [5, 6],\n",
            "        [7, 8],\n",
            "        [1, 2]])\n",
            "Torch roll op\n",
            "tensor([[3, 4],\n",
            "        [5, 6],\n",
            "        [7, 8],\n",
            "        [1, 2]])\n",
            "\n",
            "\n",
            "\n",
            "created roll op\n",
            "tensor([[6, 5],\n",
            "        [8, 7],\n",
            "        [2, 1],\n",
            "        [4, 3]])\n",
            "Torch roll op\n",
            "tensor([[6, 5],\n",
            "        [8, 7],\n",
            "        [2, 1],\n",
            "        [4, 3]])\n"
          ]
        }
      ]
    },
    {
      "cell_type": "code",
      "source": [
        "def linspace(start,end,steps, out=None, dtype=None, layout=torch.strided, device=None, requires_grad=False):\n",
        "  if(steps==1):\n",
        "    steps=1\n",
        "    end_v=end\n",
        "  else:\n",
        "    steps-=1\n",
        "    end_v=end+1\n",
        "  step_intervals=(end-start)/steps\n",
        "  return torch.arange(start,end_v,step_intervals,out=out, dtype=dtype, layout=layout, device=device, requires_grad=requires_grad)\n",
        "print(\"created linspace op\")\n",
        "print(linspace(3, 10, steps=5))\n",
        "print(\"torch linspace op\")\n",
        "print(torch.linspace(3, 10, steps=5))\n",
        "\n",
        "\n",
        "print(\"created linspace op\")\n",
        "print(linspace(-10, 10, 5))\n",
        "print(\"torch linspace op\")\n",
        "print(torch.linspace(start=-10, end=10, steps=5))\n",
        "\n",
        "\n",
        "print(\"created linspace op\")\n",
        "print(linspace(-10, 10, 1))\n",
        "print(\"torch linspace op\")\n",
        "print(torch.linspace(start=-10, end=10, steps=1))"
      ],
      "metadata": {
        "colab": {
          "base_uri": "https://localhost:8080/"
        },
        "id": "NnvX4WHi2LxN",
        "outputId": "7fc89391-7b6c-42b2-b39c-260f507b8f55"
      },
      "execution_count": null,
      "outputs": [
        {
          "output_type": "stream",
          "name": "stdout",
          "text": [
            "created linspace op\n",
            "tensor([ 3.0000,  4.7500,  6.5000,  8.2500, 10.0000])\n",
            "torch linspace op\n",
            "tensor([ 3.0000,  4.7500,  6.5000,  8.2500, 10.0000])\n",
            "created linspace op\n",
            "tensor([-10.,  -5.,   0.,   5.,  10.])\n",
            "torch linspace op\n",
            "tensor([-10.,  -5.,   0.,   5.,  10.])\n",
            "created linspace op\n",
            "tensor([-10.])\n",
            "torch linspace op\n",
            "tensor([-10.])\n"
          ]
        }
      ]
    },
    {
      "cell_type": "code",
      "source": [
        "section=[1,2,1,2,2]\n",
        "d=torch.randn(8,4)\n",
        "print(d,d.shape)\n",
        "print(torch.split(d,section,dim=0))"
      ],
      "metadata": {
        "colab": {
          "base_uri": "https://localhost:8080/"
        },
        "id": "mQcMfaz2g_Je",
        "outputId": "bde70805-d0b9-4ced-8af1-97b869f68bb7"
      },
      "execution_count": null,
      "outputs": [
        {
          "output_type": "stream",
          "name": "stdout",
          "text": [
            "tensor([[ 0.7093, -0.4083, -0.2537,  0.9023],\n",
            "        [-0.4761,  0.0159, -0.5090,  0.7895],\n",
            "        [-1.2068,  0.7470,  0.1681, -0.6422],\n",
            "        [ 0.5483, -0.6375, -1.2197, -0.4252],\n",
            "        [-0.3197, -0.7282,  0.2903,  0.2676],\n",
            "        [ 0.3557,  0.8117, -1.8224,  1.3717],\n",
            "        [ 0.6680, -0.4570,  0.2947, -0.4524],\n",
            "        [ 0.8225,  0.0490, -1.2372,  0.6156]]) torch.Size([8, 4])\n",
            "(tensor([[ 0.7093, -0.4083, -0.2537,  0.9023]]), tensor([[-0.4761,  0.0159, -0.5090,  0.7895],\n",
            "        [-1.2068,  0.7470,  0.1681, -0.6422]]), tensor([[ 0.5483, -0.6375, -1.2197, -0.4252]]), tensor([[-0.3197, -0.7282,  0.2903,  0.2676],\n",
            "        [ 0.3557,  0.8117, -1.8224,  1.3717]]), tensor([[ 0.6680, -0.4570,  0.2947, -0.4524],\n",
            "        [ 0.8225,  0.0490, -1.2372,  0.6156]]))\n"
          ]
        }
      ]
    },
    {
      "cell_type": "code",
      "source": [
        "#1.Reshaping a tensor\n",
        "#refer:https://www.geeksforgeeks.org/reshaping-a-tensor-in-pytorch/\n",
        "tensor_var=torch.arange(1,10);\n",
        "print(tensor_var)\n",
        "print(tensor_var.shape)\n",
        "#a)reshape method ==>tensor_var.reshape(r,c)==>returns reshaped tensor\n",
        "t1=tensor_var.reshape(3,3)\n",
        "print(t1)\n",
        "t2=tensor_var.reshape(9,1)\n",
        "print(t2)"
      ],
      "metadata": {
        "colab": {
          "base_uri": "https://localhost:8080/"
        },
        "id": "GayxcvIL7SFA",
        "outputId": "00845784-a7de-4a5a-8f13-5cbcd066ebb3"
      },
      "execution_count": null,
      "outputs": [
        {
          "output_type": "stream",
          "name": "stdout",
          "text": [
            "tensor([1, 2, 3, 4, 5, 6, 7, 8, 9])\n",
            "torch.Size([9])\n",
            "tensor([[1, 2, 3],\n",
            "        [4, 5, 6],\n",
            "        [7, 8, 9]])\n",
            "tensor([[1],\n",
            "        [2],\n",
            "        [3],\n",
            "        [4],\n",
            "        [5],\n",
            "        [6],\n",
            "        [7],\n",
            "        [8],\n",
            "        [9]])\n"
          ]
        }
      ]
    },
    {
      "cell_type": "code",
      "source": [
        "#flatten() method==>Nd Tensor to 1D tensor\n",
        "tensor_var=torch.tensor([\n",
        "            [1,2,3],\n",
        "            [4,5,6],\n",
        "            [7,8,9]\n",
        "          ])\n",
        "torch.flatten(tensor_var) #tensor_var.flatten()==>return vector\n",
        "print(tensor_var)"
      ],
      "metadata": {
        "colab": {
          "base_uri": "https://localhost:8080/"
        },
        "id": "EknDMn5M-n_7",
        "outputId": "c6d2959e-ac6a-45a5-e12c-696297d83398"
      },
      "execution_count": null,
      "outputs": [
        {
          "output_type": "stream",
          "name": "stdout",
          "text": [
            "tensor([[1, 2, 3],\n",
            "        [4, 5, 6],\n",
            "        [7, 8, 9]])\n"
          ]
        }
      ]
    },
    {
      "cell_type": "code",
      "source": [
        "#c)tensor_var.view(r,c)\n",
        "#refer:https://pytorch.org/docs/stable/generated/torch.Tensor.view.html,\n",
        "#refer:https://stackoverflow.com/questions/50792316/what-does-1-mean-in-pytorch-view\n",
        "#vector\n",
        "tensor_var=torch.arange(16)\n",
        "print(tensor_var,tensor_var.size())\n",
        "\n",
        "tensor_var=tensor_var.view(4,4)\n",
        "print(tensor_var,tensor_var.size())\n",
        "\n",
        "tensor_var=tensor_var.view(-1,8)\n",
        "print(tensor_var,tensor_var.size())\n",
        "\n",
        "tensor_var=tensor_var.view(4,-1)\n",
        "print(tensor_var,tensor_var.size())\n",
        "\n",
        "tensor_var=tensor_var.view(-1)\n",
        "print(tensor_var,tensor_var.size())\n",
        "\n"
      ],
      "metadata": {
        "colab": {
          "base_uri": "https://localhost:8080/"
        },
        "id": "PTIiYNZKAGqL",
        "outputId": "faccb255-d71d-492d-fb3a-bf9f40475b24"
      },
      "execution_count": null,
      "outputs": [
        {
          "output_type": "stream",
          "name": "stdout",
          "text": [
            "tensor([ 0,  1,  2,  3,  4,  5,  6,  7,  8,  9, 10, 11, 12, 13, 14, 15]) torch.Size([16])\n",
            "tensor([[ 0,  1,  2,  3],\n",
            "        [ 4,  5,  6,  7],\n",
            "        [ 8,  9, 10, 11],\n",
            "        [12, 13, 14, 15]]) torch.Size([4, 4])\n",
            "tensor([[ 0,  1,  2,  3,  4,  5,  6,  7],\n",
            "        [ 8,  9, 10, 11, 12, 13, 14, 15]]) torch.Size([2, 8])\n",
            "tensor([[ 0,  1,  2,  3],\n",
            "        [ 4,  5,  6,  7],\n",
            "        [ 8,  9, 10, 11],\n",
            "        [12, 13, 14, 15]]) torch.Size([4, 4])\n",
            "tensor([ 0,  1,  2,  3,  4,  5,  6,  7,  8,  9, 10, 11, 12, 13, 14, 15]) torch.Size([16])\n"
          ]
        }
      ]
    },
    {
      "cell_type": "code",
      "source": [
        "#tensor_var.resize_()\n",
        "tensor_var=torch.arange(16)\n",
        "print(tensor_var.resize_(1,2,8))"
      ],
      "metadata": {
        "colab": {
          "base_uri": "https://localhost:8080/"
        },
        "id": "2RpI1ZIQJIXN",
        "outputId": "7d092ce1-a9cc-4096-f492-a17d1ff2196b"
      },
      "execution_count": null,
      "outputs": [
        {
          "output_type": "stream",
          "name": "stdout",
          "text": [
            "tensor([[[ 0,  1,  2,  3,  4,  5,  6,  7],\n",
            "         [ 8,  9, 10, 11, 12, 13, 14, 15]]])\n"
          ]
        }
      ]
    },
    {
      "cell_type": "code",
      "source": [
        "#squeeze==>reducing all its dimensions of inputs having size 1.\n",
        "tensor_var=torch.tensor([[[[[0.],\n",
        "[0.]]],\n",
        "\n",
        "\n",
        "[[[0.],\n",
        "[0.]]]]])\n",
        "print(tensor_var.shape)\n",
        "torch.squeeze(tensor_var),torch.squeeze(tensor_var).shape"
      ],
      "metadata": {
        "colab": {
          "base_uri": "https://localhost:8080/"
        },
        "id": "rOrDu14lJuQz",
        "outputId": "1bf82688-459d-4bd8-b99c-a1ad7be74d81"
      },
      "execution_count": null,
      "outputs": [
        {
          "output_type": "stream",
          "name": "stdout",
          "text": [
            "torch.Size([1, 2, 1, 2, 1])\n"
          ]
        },
        {
          "output_type": "execute_result",
          "data": {
            "text/plain": [
              "(tensor([[0., 0.],\n",
              "         [0., 0.]]), torch.Size([2, 2]))"
            ]
          },
          "metadata": {},
          "execution_count": 39
        }
      ]
    },
    {
      "cell_type": "code",
      "source": [
        "#unsqueeze==>add dim at given position\n",
        "tensor_var=torch.arange(5)\n",
        "print(tensor_var,tensor_var.shape)\n",
        "print(torch.unsqueeze(tensor_var,0))\n",
        "print(torch.unsqueeze(tensor_var,1))"
      ],
      "metadata": {
        "colab": {
          "base_uri": "https://localhost:8080/"
        },
        "id": "eJlrHMZLPze9",
        "outputId": "94ed72ed-b6d8-4907-b807-496703d76bb3"
      },
      "execution_count": null,
      "outputs": [
        {
          "output_type": "stream",
          "name": "stdout",
          "text": [
            "tensor([0, 1, 2, 3, 4]) torch.Size([5])\n",
            "tensor([[0, 1, 2, 3, 4]])\n",
            "tensor([[0],\n",
            "        [1],\n",
            "        [2],\n",
            "        [3],\n",
            "        [4]])\n"
          ]
        }
      ]
    },
    {
      "cell_type": "code",
      "source": [
        "#matrix multiplication \n",
        "#ref:https://www.geeksforgeeks.org/python-matrix-multiplication-using-pytorch/\n",
        "#1)mm==>the matrix must be in same shape\n",
        "mat1=torch.rand(3,4) \n",
        "mat2=torch.rand(4,3)\n",
        "print(torch.mm(mat1,mat2),torch.mm(mat1,mat2).shape) "
      ],
      "metadata": {
        "colab": {
          "base_uri": "https://localhost:8080/"
        },
        "id": "TZuMZnkuTz4-",
        "outputId": "6fda4b23-6c8a-43b9-88ce-b42ebd0035b0"
      },
      "execution_count": null,
      "outputs": [
        {
          "output_type": "stream",
          "name": "stdout",
          "text": [
            "tensor([[1.4680, 2.1072, 1.8932],\n",
            "        [1.3905, 1.5624, 1.5121],\n",
            "        [1.4995, 1.6706, 1.0445]]) torch.Size([3, 3])\n"
          ]
        }
      ]
    },
    {
      "cell_type": "code",
      "source": [
        "#matmaul\n",
        "#matrix with 2 1d \n",
        "mat1=torch.tensor([1,2,3,4])\n",
        "mat2=torch.tensor([5,6,7,8])\n",
        "print(torch.matmul(mat1,mat2),torch.matmul(mat1,mat2).shape)\n",
        "#matrix with 1d and 2d\n",
        "mat1_1 = torch.tensor([3, 6, 2])\n",
        "  \n",
        "mat1_2 = torch.tensor([[1, 2, 3],\n",
        "                       [4, 3, 8],\n",
        "                       [1, 7, 2]])\n",
        "  \n",
        "print(torch.matmul(mat1_1, mat1_2))"
      ],
      "metadata": {
        "colab": {
          "base_uri": "https://localhost:8080/"
        },
        "id": "GOecNaQdVBFr",
        "outputId": "52c298e1-4019-4fc6-a1a1-f5a762cd8d66"
      },
      "execution_count": null,
      "outputs": [
        {
          "output_type": "stream",
          "name": "stdout",
          "text": [
            "tensor(70) torch.Size([])\n",
            "tensor([29, 38, 61])\n"
          ]
        }
      ]
    },
    {
      "cell_type": "code",
      "source": [
        "#expand()\n",
        "#ref:https://www.tutorialspoint.com/how-to-perform-an-expand-operation-in-pytorch\n",
        "tensor_var1=torch.tensor([[1],[2],[3]])\n",
        "print(tensor_var1.shape)\n",
        "tensor_var1=tensor_var.expand(3,4)\n",
        "print(tensor_var1,tensor_var1.shape)\n",
        "\n",
        "tensor_var1=torch.tensor([1,2,3])\n",
        "tensor_var1=tensor_var1.expand(5,-1)\n",
        "print(tensor_var1,tensor_var1.shape)"
      ],
      "metadata": {
        "colab": {
          "base_uri": "https://localhost:8080/"
        },
        "id": "oEG2CpnRRJ0H",
        "outputId": "053858d4-e97d-4a1e-ee60-836ade5f0c37"
      },
      "execution_count": null,
      "outputs": [
        {
          "output_type": "stream",
          "name": "stdout",
          "text": [
            "torch.Size([3, 1])\n",
            "tensor([[1, 1, 1, 1],\n",
            "        [2, 2, 2, 2],\n",
            "        [3, 3, 3, 3]]) torch.Size([3, 4])\n",
            "tensor([[1, 2, 3],\n",
            "        [1, 2, 3],\n",
            "        [1, 2, 3],\n",
            "        [1, 2, 3],\n",
            "        [1, 2, 3]]) torch.Size([5, 3])\n"
          ]
        }
      ]
    },
    {
      "cell_type": "code",
      "source": [
        "#narrow\n",
        "tensor_var=torch.tensor([[1,2,3],\n",
        "              [4,5,6],\n",
        "              [7,8,9]])\n",
        "print(torch.narrow(tensor_var,0,0,3))\n",
        "print(torch.narrow(tensor_var,0,1,2))\n",
        "\n",
        "print(torch.narrow(tensor_var,1,0,2))\n",
        "print(torch.narrow(tensor_var,1,1,2))\n",
        "\n"
      ],
      "metadata": {
        "colab": {
          "base_uri": "https://localhost:8080/"
        },
        "id": "VpTGtC1qfYWu",
        "outputId": "b1e38567-9c5f-421f-fa31-8c9ad8bab7db"
      },
      "execution_count": null,
      "outputs": [
        {
          "output_type": "stream",
          "name": "stdout",
          "text": [
            "tensor([[1, 2, 3],\n",
            "        [4, 5, 6],\n",
            "        [7, 8, 9]])\n",
            "tensor([[4, 5, 6],\n",
            "        [7, 8, 9]])\n",
            "tensor([[1, 2],\n",
            "        [4, 5],\n",
            "        [7, 8]])\n",
            "tensor([[2, 3],\n",
            "        [5, 6],\n",
            "        [8, 9]])\n"
          ]
        }
      ]
    },
    {
      "cell_type": "code",
      "source": [
        "#permute\n",
        "tensor_var=torch.tensor([[1,2],[3,4],[5,6]])\n",
        "print(tensor_var.shape)\n",
        "tensor_var=torch.permute(tensor_var,(1,0))\n",
        "print(tensor_var,tensor_var.shape)\n"
      ],
      "metadata": {
        "colab": {
          "base_uri": "https://localhost:8080/"
        },
        "id": "44OkRAe6n9Rj",
        "outputId": "3f035a4a-9007-483a-f86d-5c317a074f85"
      },
      "execution_count": null,
      "outputs": [
        {
          "output_type": "stream",
          "name": "stdout",
          "text": [
            "torch.Size([3, 2])\n",
            "tensor([[1, 3, 5],\n",
            "        [2, 4, 6]]) torch.Size([2, 3])\n"
          ]
        }
      ]
    },
    {
      "cell_type": "code",
      "source": [
        "import torch\n",
        "#1)add(tensor1,tensor*,alpha==>multipler which multiplies with tensor2*)\n",
        "t1=torch.tensor([1,2,3,4])\n",
        "print(t1)\n",
        "print(torch.add(t1,10))\n",
        "print(torch.add(t1,10,alpha=10))\n",
        "t2=torch.rand(4,1)\n",
        "torch.add(t1,t2)"
      ],
      "metadata": {
        "colab": {
          "base_uri": "https://localhost:8080/"
        },
        "id": "Wnt_OYqy7mdI",
        "outputId": "3418906e-c264-4769-90a0-5fb898d3086c"
      },
      "execution_count": null,
      "outputs": [
        {
          "output_type": "stream",
          "name": "stdout",
          "text": [
            "tensor([1, 2, 3, 4])\n",
            "tensor([11, 12, 13, 14])\n",
            "tensor([101, 102, 103, 104])\n"
          ]
        },
        {
          "output_type": "execute_result",
          "data": {
            "text/plain": [
              "tensor([[1.6993, 2.6993, 3.6993, 4.6993],\n",
              "        [1.1815, 2.1815, 3.1815, 4.1815],\n",
              "        [1.2955, 2.2955, 3.2955, 4.2955],\n",
              "        [1.0077, 2.0077, 3.0077, 4.0077]])"
            ]
          },
          "metadata": {},
          "execution_count": 7
        }
      ]
    },
    {
      "cell_type": "code",
      "source": [
        "#2)add_ ==> add with in place  \n",
        "a = torch.tensor([[1,1],[1,1]])\n",
        "b = torch.tensor(2)\n",
        "c = torch.tensor(3)\n",
        "a.add_(b,alpha=3)\n",
        "print(a)"
      ],
      "metadata": {
        "colab": {
          "base_uri": "https://localhost:8080/"
        },
        "id": "SEgtBYZH90K6",
        "outputId": "70bb9531-945a-487d-fba7-b50faf02bc60"
      },
      "execution_count": null,
      "outputs": [
        {
          "output_type": "stream",
          "name": "stdout",
          "text": [
            "tensor([[7, 7],\n",
            "        [7, 7]])\n"
          ]
        }
      ]
    },
    {
      "cell_type": "code",
      "source": [
        "#cat\n",
        "t1=torch.tensor([[1,2],\n",
        "              [3,4]])\n",
        "t2=torch.tensor([[9,4],\n",
        "              [8,5]])\n",
        "print(t1)\n",
        "t3=torch.cat((t1,t2),dim=0)\n",
        "print(t3)\n",
        "t3=torch.cat((t1,t2),dim=1)\n",
        "print(t3)"
      ],
      "metadata": {
        "colab": {
          "base_uri": "https://localhost:8080/"
        },
        "id": "kkz8gU45-a36",
        "outputId": "f1d90595-6def-4abd-b2ae-361180175226"
      },
      "execution_count": null,
      "outputs": [
        {
          "output_type": "stream",
          "name": "stdout",
          "text": [
            "tensor([[1, 2],\n",
            "        [3, 4]])\n",
            "tensor([[1, 2],\n",
            "        [3, 4],\n",
            "        [9, 4],\n",
            "        [8, 5]])\n",
            "tensor([[1, 2, 9, 4],\n",
            "        [3, 4, 8, 5]])\n"
          ]
        }
      ]
    },
    {
      "cell_type": "markdown",
      "source": [
        "STACK"
      ],
      "metadata": {
        "id": "9_v0E7PlEIB6"
      }
    },
    {
      "cell_type": "code",
      "source": [
        "#1D TENSOR\n",
        "t1=torch.rand(5)\n",
        "t2=torch.rand(5)\n",
        "torch.stack((t1,t2),dim=0),torch.stack((t1,t2),dim=1)"
      ],
      "metadata": {
        "colab": {
          "base_uri": "https://localhost:8080/"
        },
        "id": "Np-xT4fqCIPs",
        "outputId": "04da6649-97fd-4e2e-cb63-04bc37b80c76"
      },
      "execution_count": null,
      "outputs": [
        {
          "output_type": "execute_result",
          "data": {
            "text/plain": [
              "(tensor([[0.2402, 0.4902, 0.2986, 0.4896, 0.8011],\n",
              "         [0.8402, 0.8239, 0.3081, 0.7673, 0.9500]]), tensor([[0.2402, 0.8402],\n",
              "         [0.4902, 0.8239],\n",
              "         [0.2986, 0.3081],\n",
              "         [0.4896, 0.7673],\n",
              "         [0.8011, 0.9500]]))"
            ]
          },
          "metadata": {},
          "execution_count": 23
        }
      ]
    },
    {
      "cell_type": "code",
      "source": [
        "#2d tensor for stack\n",
        "t1=torch.tensor([[1,2,7],\n",
        "              [3,4,8]])\n",
        "t2=torch.tensor([[9,4,9],\n",
        "              [8,5,1]])\n",
        "print(torch.stack((t1,t2),dim=0),\"\\n\",torch.stack((t1,t2),dim=1),\"\\n\",torch.stack((t1,t2),dim=2))"
      ],
      "metadata": {
        "colab": {
          "base_uri": "https://localhost:8080/"
        },
        "id": "XQPh2TyNEQIL",
        "outputId": "abb00303-3b80-4e11-c923-b137184932a0"
      },
      "execution_count": null,
      "outputs": [
        {
          "output_type": "stream",
          "name": "stdout",
          "text": [
            "tensor([[[1, 2, 7],\n",
            "         [3, 4, 8]],\n",
            "\n",
            "        [[9, 4, 9],\n",
            "         [8, 5, 1]]]) \n",
            " tensor([[[1, 2, 7],\n",
            "         [9, 4, 9]],\n",
            "\n",
            "        [[3, 4, 8],\n",
            "         [8, 5, 1]]]) \n",
            " tensor([[[1, 9],\n",
            "         [2, 4],\n",
            "         [7, 9]],\n",
            "\n",
            "        [[3, 8],\n",
            "         [4, 5],\n",
            "         [8, 1]]])\n"
          ]
        }
      ]
    },
    {
      "cell_type": "code",
      "source": [
        "import torch as t\n",
        "t1=t.tensor([[1,2],[3,4]],dtype=t.float64)\n",
        "print(t1)"
      ],
      "metadata": {
        "colab": {
          "base_uri": "https://localhost:8080/"
        },
        "id": "2Jqdj23L6kT8",
        "outputId": "6a2136a8-6269-4234-cf54-5ff72481f817"
      },
      "execution_count": null,
      "outputs": [
        {
          "output_type": "stream",
          "name": "stdout",
          "text": [
            "tensor([[1., 2.],\n",
            "        [3., 4.]], dtype=torch.float64)\n"
          ]
        }
      ]
    },
    {
      "cell_type": "code",
      "source": [
        "t1=t1.new_full((2,2),1)\n",
        "t2=t.rand((2,2),requires_grad=True)\n",
        "c=t1.add_(t2).sum()\n",
        "c.backward()\n",
        "t2.grad,c.grad"
      ],
      "metadata": {
        "colab": {
          "base_uri": "https://localhost:8080/"
        },
        "id": "UDYnRZVMOHeI",
        "outputId": "cb2a15fa-4da0-4aa4-c404-4bad2e4ad841"
      },
      "execution_count": null,
      "outputs": [
        {
          "output_type": "stream",
          "name": "stderr",
          "text": [
            "/usr/local/lib/python3.7/dist-packages/torch/_tensor.py:1013: UserWarning: The .grad attribute of a Tensor that is not a leaf Tensor is being accessed. Its .grad attribute won't be populated during autograd.backward(). If you indeed want the .grad field to be populated for a non-leaf Tensor, use .retain_grad() on the non-leaf Tensor. If you access the non-leaf Tensor by mistake, make sure you access the leaf Tensor instead. See github.com/pytorch/pytorch/pull/30531 for more informations. (Triggered internally at  aten/src/ATen/core/TensorBody.h:417.)\n",
            "  return self._grad\n"
          ]
        },
        {
          "output_type": "execute_result",
          "data": {
            "text/plain": [
              "(tensor([[1., 1.],\n",
              "         [1., 1.]]), None)"
            ]
          },
          "metadata": {},
          "execution_count": 16
        }
      ]
    },
    {
      "cell_type": "code",
      "source": [
        "x=t.rand(3,2)\n",
        "print(x)\n",
        "t1=t.view_as_complex(x)\n",
        "t.is_complex(t1)\n"
      ],
      "metadata": {
        "colab": {
          "base_uri": "https://localhost:8080/"
        },
        "id": "Zd3vHmK5V70c",
        "outputId": "ae46cab6-17ad-4c6b-c626-d9288af898fb"
      },
      "execution_count": null,
      "outputs": [
        {
          "output_type": "stream",
          "name": "stdout",
          "text": [
            "tensor([[0.4662, 0.5603],\n",
            "        [0.7589, 0.7052],\n",
            "        [0.7738, 0.1385]])\n"
          ]
        },
        {
          "output_type": "execute_result",
          "data": {
            "text/plain": [
              "True"
            ]
          },
          "metadata": {},
          "execution_count": 24
        }
      ]
    },
    {
      "cell_type": "code",
      "source": [
        "t.randn(2, 2).stride()"
      ],
      "metadata": {
        "colab": {
          "base_uri": "https://localhost:8080/"
        },
        "id": "KMMW5hVTWO25",
        "outputId": "bf83a200-08e5-4e90-b136-b2a85260c31f"
      },
      "execution_count": null,
      "outputs": [
        {
          "output_type": "execute_result",
          "data": {
            "text/plain": [
              "(2, 1)"
            ]
          },
          "metadata": {},
          "execution_count": 26
        }
      ]
    },
    {
      "cell_type": "code",
      "source": [
        "import torch\n",
        "a = torch.arange(5)\n",
        "b = torch.arange(10).reshape(5, 2)\n",
        "print(a,b)\n",
        "torch.column_stack((a, b, b))"
      ],
      "metadata": {
        "colab": {
          "base_uri": "https://localhost:8080/"
        },
        "id": "T9QZWGlcfLop",
        "outputId": "fc226dad-b45d-4a0c-b4af-f0a644dab944"
      },
      "execution_count": null,
      "outputs": [
        {
          "output_type": "stream",
          "name": "stdout",
          "text": [
            "tensor([0, 1, 2, 3, 4]) tensor([[0, 1],\n",
            "        [2, 3],\n",
            "        [4, 5],\n",
            "        [6, 7],\n",
            "        [8, 9]])\n"
          ]
        },
        {
          "output_type": "execute_result",
          "data": {
            "text/plain": [
              "tensor([[0, 0, 1, 0, 1],\n",
              "        [1, 2, 3, 2, 3],\n",
              "        [2, 4, 5, 4, 5],\n",
              "        [3, 6, 7, 6, 7],\n",
              "        [4, 8, 9, 8, 9]])"
            ]
          },
          "metadata": {},
          "execution_count": 1
        }
      ]
    },
    {
      "cell_type": "code",
      "source": [
        "x = torch.arange(3).view(1, 3)\n",
        "y = torch.arange(2).view(2, 1)\n",
        "print(x,y)\n",
        "a, b = torch.broadcast_tensors(x, y)\n",
        "a.size()\n",
        "a"
      ],
      "metadata": {
        "colab": {
          "base_uri": "https://localhost:8080/"
        },
        "id": "xckzZuqOnb4r",
        "outputId": "ebc18d37-9b60-4b47-eae6-4b2b9a05ed5f"
      },
      "execution_count": null,
      "outputs": [
        {
          "output_type": "stream",
          "name": "stdout",
          "text": [
            "tensor([[0, 1, 2]]) tensor([[0],\n",
            "        [1]])\n"
          ]
        },
        {
          "output_type": "execute_result",
          "data": {
            "text/plain": [
              "tensor([[0, 1, 2],\n",
              "        [0, 1, 2]])"
            ]
          },
          "metadata": {},
          "execution_count": 2
        }
      ]
    },
    {
      "cell_type": "code",
      "source": [
        "sorted_sequence = torch.tensor([[1, 3, 5, 7, 9], [2, 4, 6, 8, 10]])\n",
        "sorted_sequence\n",
        "values = torch.tensor([[3, 6, 9], [3, 6, 9]])\n",
        "values\n",
        "torch.searchsorted(sorted_sequence, values)\n"
      ],
      "metadata": {
        "colab": {
          "base_uri": "https://localhost:8080/"
        },
        "id": "68P6p9ILDWa_",
        "outputId": "75c7e5d0-fa4b-40be-fa6a-1ace6f6670bf"
      },
      "execution_count": null,
      "outputs": [
        {
          "output_type": "execute_result",
          "data": {
            "text/plain": [
              "tensor([[1, 3, 4],\n",
              "        [1, 2, 4]])"
            ]
          },
          "metadata": {},
          "execution_count": 5
        }
      ]
    }
  ]
}