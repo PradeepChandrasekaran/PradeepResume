{
  "cells": [
    {
      "cell_type": "markdown",
      "metadata": {
        "id": "view-in-github",
        "colab_type": "text"
      },
      "source": [
        "<a href=\"https://colab.research.google.com/github/PradeepChandrasekaran/PradeepResume/blob/main/Randn_Distribution_Check.ipynb\" target=\"_parent\"><img src=\"https://colab.research.google.com/assets/colab-badge.svg\" alt=\"Open In Colab\"/></a>"
      ]
    },
    {
      "cell_type": "markdown",
      "source": [
        "**FIRST TEST WITH GEN SIZE=16**"
      ],
      "metadata": {
        "id": "0gYolmdUQnz8"
      }
    },
    {
      "cell_type": "code",
      "source": [
        "cpu1=[-0.1737,\n",
        "-1.8225,\n",
        " 0.7792,\n",
        "-1.0139,\n",
        " 0.8835,\n",
        " 0.6286,\n",
        "-0.2533,\n",
        "-2.6560,\n",
        "-0.7693,\n",
        " 0.8935,\n",
        " 0.4579,\n",
        " 0.0610,\n",
        " 1.5210,\n",
        " 0.9101,\n",
        " 0.2918,\n",
        "-0.2424\n",
        "]\n",
        "hpu1=[\n",
        " 0.1386,\n",
        " 0.7421,\n",
        " 1.3330,\n",
        "-0.5359,\n",
        "-0.7366,\n",
        "-0.9728,\n",
        " 1.4067,\n",
        " 2.0413,\n",
        "-1.6772,\n",
        " 0.4154,\n",
        " 0.0441,\n",
        "-1.2780,\n",
        "-0.1881,\n",
        "-0.0766,\n",
        "-0.0838,\n",
        "-0.5942]\n"
      ],
      "metadata": {
        "id": "dnPDixSiQkcY"
      },
      "execution_count": 14,
      "outputs": []
    },
    {
      "cell_type": "markdown",
      "source": [
        "**Second sample with gen N=20**"
      ],
      "metadata": {
        "id": "XXfy8NNiRAsx"
      }
    },
    {
      "cell_type": "code",
      "source": [
        "cpu2=[-0.1737,\n",
        "-1.8225,\n",
        " 0.7792,\n",
        "-1.0139,\n",
        " 1.2364,\n",
        "-0.7147,\n",
        " 0.0041,\n",
        " 0.5045,\n",
        " 1.2728,\n",
        " 1.0534,\n",
        " 0.2993,\n",
        " 1.3773,\n",
        "-0.3331,\n",
        "-0.7965,\n",
        " 0.5225,\n",
        "-0.6274,\n",
        "-1.0944,\n",
        " 0.3262,\n",
        " 0.3573,\n",
        " 1.0512]\n",
        "hpu2=[\n",
        " 0.1386,\n",
        " 0.7421,\n",
        " 1.3330,\n",
        "-0.5359,\n",
        "-0.7366,\n",
        "-0.9728,\n",
        " 1.4067,\n",
        " 2.0413,\n",
        "-1.6772,\n",
        " 0.4154,\n",
        " 0.0441,\n",
        "-1.2780,\n",
        "-0.1881,\n",
        "-0.0766,\n",
        "-0.0838,\n",
        "-0.5942,\n",
        "-1.5390,\n",
        " 2.6704,\n",
        " 0.5602,\n",
        " 0.3983    \n",
        "]"
      ],
      "metadata": {
        "id": "vWSzMsijRYXi"
      },
      "execution_count": 15,
      "outputs": []
    },
    {
      "cell_type": "markdown",
      "source": [
        "**THIRD TEST WITHOUT GEN N=20**"
      ],
      "metadata": {
        "id": "NYX_fNAkRaEg"
      }
    },
    {
      "cell_type": "code",
      "source": [
        "cpu3=[\n",
        "-0.1813,\n",
        "-0.3241,\n",
        " 0.7616,\n",
        "-0.9424,\n",
        "-0.0369,\n",
        " 1.0072,\n",
        "-0.1696,\n",
        " 2.0859,\n",
        "-0.3217,\n",
        " 1.1005,\n",
        " 1.9958,\n",
        "-1.7442,\n",
        " 2.0851,\n",
        "-1.2788,\n",
        "-2.1060,\n",
        "-0.2033,\n",
        " 0.4744,\n",
        "-0.9070,\n",
        " 0.2363,\n",
        " 1.0585\n",
        "]\n",
        "hpu3=[\n",
        " 1.1641,\n",
        " 0.5556,\n",
        "-1.8007,\n",
        " 0.2820,\n",
        " 1.3582,\n",
        " 1.2492,\n",
        " 0.8017,\n",
        "-0.2058,\n",
        "-1.2647,\n",
        "-1.6924,\n",
        "-0.7395,\n",
        "-0.9770,\n",
        "-1.6264,\n",
        "-0.0730,\n",
        "-0.4258,\n",
        "-0.0659,\n",
        "-1.6562,\n",
        "-1.2784,\n",
        "-1.3425,\n",
        "-1.0397\n",
        "]"
      ],
      "metadata": {
        "id": "6eHRnDiARg2D"
      },
      "execution_count": 16,
      "outputs": []
    },
    {
      "cell_type": "code",
      "source": [
        "import pandas as pd\n",
        "my_data = pd.Series(cpu2)\n",
        "my_data.hist()"
      ],
      "metadata": {
        "colab": {
          "base_uri": "https://localhost:8080/",
          "height": 283
        },
        "id": "V5C1XX_LRpIJ",
        "outputId": "86c5d48d-98dd-4188-a2e2-bba3e4c56fb7"
      },
      "execution_count": 20,
      "outputs": [
        {
          "output_type": "execute_result",
          "data": {
            "text/plain": [
              "<matplotlib.axes._subplots.AxesSubplot at 0x7f8534790610>"
            ]
          },
          "metadata": {},
          "execution_count": 20
        },
        {
          "output_type": "display_data",
          "data": {
            "text/plain": [
              "<Figure size 432x288 with 1 Axes>"
            ],
            "image/png": "[encoded data removed]"
          },
          "metadata": {
            "needs_background": "light"
          }
        }
      ]
    },
    {
      "cell_type": "code",
      "source": [
        "my_data = pd.Series(hpu2)\n",
        "my_data.hist()"
      ],
      "metadata": {
        "colab": {
          "base_uri": "https://localhost:8080/",
          "height": 283
        },
        "id": "U_0TjRrURpD3",
        "outputId": "9d327a0a-ba80-47a5-bce9-06b4ee553b1e"
      },
      "execution_count": 21,
      "outputs": [
        {
          "output_type": "execute_result",
          "data": {
            "text/plain": [
              "<matplotlib.axes._subplots.AxesSubplot at 0x7f8534712490>"
            ]
          },
          "metadata": {},
          "execution_count": 21
        },
        {
          "output_type": "display_data",
          "data": {
            "text/plain": [
              "<Figure size 432x288 with 1 Axes>"
            ],
            "image/png": "[encoded data removed]"
          },
          "metadata": {
            "needs_background": "light"
          }
        }
      ]
    },
    {
      "cell_type": "code",
      "source": [
        "import statsmodels.api as sm\n",
        "from scipy.stats import norm\n",
        "import pylab\n",
        "import numpy as np\n",
        "my_data = np.array(cpu2)\n",
        "sm.qqplot(my_data, line='45')\n",
        "pylab.show()"
      ],
      "metadata": {
        "colab": {
          "base_uri": "https://localhost:8080/",
          "height": 279
        },
        "id": "9chCUnW_Ruqx",
        "outputId": "650795fa-5409-42f8-bbee-89e81188a47d"
      },
      "execution_count": 22,
      "outputs": [
        {
          "output_type": "display_data",
          "data": {
            "text/plain": [
              "<Figure size 432x288 with 1 Axes>"
            ],
            "image/png": "[encoded data removed]"
          },
          "metadata": {
            "needs_background": "light"
          }
        }
      ]
    },
    {
      "cell_type": "code",
      "source": [
        "my_data = np.array(hpu2)\n",
        "sm.qqplot(my_data, line='45')\n",
        "pylab.show()"
      ],
      "metadata": {
        "colab": {
          "base_uri": "https://localhost:8080/",
          "height": 279
        },
        "id": "7xfxCYM4RvL9",
        "outputId": "009965fb-2923-4cf7-a251-4fcd849ee536"
      },
      "execution_count": 23,
      "outputs": [
        {
          "output_type": "display_data",
          "data": {
            "text/plain": [
              "<Figure size 432x288 with 1 Axes>"
            ],
            "image/png": "[encoded data removed]"
          },
          "metadata": {
            "needs_background": "light"
          }
        }
      ]
    }
  ],
  "metadata": {
    "colab": {
      "name": "Randn Distribution Check.ipynb",
      "provenance": [],
      "authorship_tag": "ABX9TyOKIx4GTcon5Kp6UcdGO/X3",
      "include_colab_link": true
    },
    "kernelspec": {
      "display_name": "Python 3",
      "name": "python3"
    },
    "language_info": {
      "name": "python"
    }
  },
  "nbformat": 4,
  "nbformat_minor": 0
}