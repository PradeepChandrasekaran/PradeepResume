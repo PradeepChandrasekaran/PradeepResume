{
  "nbformat": 4,
  "nbformat_minor": 0,
  "metadata": {
    "colab": {
      "name": "pytest.ipynb",
      "provenance": [],
      "authorship_tag": "ABX9TyP75yAaU+VeorgSbDb9w7Ha",
      "include_colab_link": true
    },
    "kernelspec": {
      "name": "python3",
      "display_name": "Python 3"
    },
    "language_info": {
      "name": "python"
    }
  },
  "cells": [
    {
      "cell_type": "markdown",
      "metadata": {
        "id": "view-in-github",
        "colab_type": "text"
      },
      "source": [
        "<a href=\"https://colab.research.google.com/github/PradeepChandrasekaran/PradeepResume/blob/main/pytest.ipynb\" target=\"_parent\"><img src=\"https://colab.research.google.com/assets/colab-badge.svg\" alt=\"Open In Colab\"/></a>"
      ]
    },
    {
      "cell_type": "code",
      "execution_count": 1,
      "metadata": {
        "colab": {
          "base_uri": "https://localhost:8080/"
        },
        "id": "FGqZMGP1Zhhc",
        "outputId": "c49e873b-b490-42cd-a281-c06c89be9cbe"
      },
      "outputs": [
        {
          "output_type": "stream",
          "name": "stdout",
          "text": [
            "Writing MathFun.py\n"
          ]
        }
      ],
      "source": [
        "%%file MathFun.py\n",
        "def add(a,*b):\n",
        "    sum=a\n",
        "    for i in b:\n",
        "        sum=sum+i\n",
        "    return sum\n",
        "def sub(a,*b):\n",
        "    diff = a\n",
        "    for i in b:\n",
        "        diff = diff - i\n",
        "    return diff\n",
        "def mul(a,*b):\n",
        "    product=a\n",
        "    for i in b:\n",
        "        product*=i\n",
        "    return product"
      ]
    },
    {
      "cell_type": "code",
      "source": [
        "%%file Test_fun.py\n",
        "import pytest\n",
        "from MathFun import *\n",
        "\n",
        "def test_add():\n",
        "   a=24\n",
        "   b=56\n",
        "   c=89\n",
        "   s=a+b+c\n",
        "   assert add(a,b,c)==s\n",
        "\n",
        "def test_mul():\n",
        "   a = 24\n",
        "   b = 56\n",
        "   c = 89\n",
        "   p=a*b*c\n",
        "   assert mul(a,b,c)==p\n"
      ],
      "metadata": {
        "colab": {
          "base_uri": "https://localhost:8080/"
        },
        "id": "n4pstfDCZoHA",
        "outputId": "44eaf8d2-75ce-45b6-e11c-0a34d7716c30"
      },
      "execution_count": 11,
      "outputs": [
        {
          "output_type": "stream",
          "name": "stdout",
          "text": [
            "Overwriting Test_fun.py\n"
          ]
        }
      ]
    },
    {
      "cell_type": "code",
      "source": [
        "!python -m pytest Test_fun.py "
      ],
      "metadata": {
        "colab": {
          "base_uri": "https://localhost:8080/"
        },
        "id": "YNp0Ru9GZugv",
        "outputId": "d0312c00-d68b-4b74-caac-ab5172fc3a79"
      },
      "execution_count": 12,
      "outputs": [
        {
          "output_type": "stream",
          "name": "stdout",
          "text": [
            "\u001b[1m============================= test session starts ==============================\u001b[0m\n",
            "platform linux -- Python 3.7.12, pytest-3.6.4, py-1.11.0, pluggy-0.7.1\n",
            "rootdir: /content, inifile:\n",
            "plugins: typeguard-2.7.1\n",
            "\u001b[1m\rcollecting 0 items                                                             \u001b[0m\u001b[1m\rcollecting 2 items                                                             \u001b[0m\u001b[1m\rcollected 2 items                                                              \u001b[0m\n",
            "\n",
            "Test_fun.py ..\u001b[36m                                                           [100%]\u001b[0m\n",
            "\n",
            "\u001b[32m\u001b[1m=========================== 2 passed in 0.02 seconds ===========================\u001b[0m\n"
          ]
        }
      ]
    },
    {
      "cell_type": "code",
      "source": [
        "%%file Test_fun.py\n",
        "import pytest\n",
        "from MathFun import *\n",
        "@pytest.mark.parametrize('a,b,c',\n",
        "                         [(5,5,5),(10,20,20)])\n",
        "def test_add(a,b,c):\n",
        "   s=a+b+c\n",
        "   assert add(a,b,c)==s\n",
        "@pytest.mark.parametrize('a,b,c',\n",
        "                         [(5,5,5),(10,20,20)])\n",
        "def test_mul(a,b,c):\n",
        "   p=a*b*c\n",
        "   assert mul(a,b,c)==p"
      ],
      "metadata": {
        "colab": {
          "base_uri": "https://localhost:8080/"
        },
        "id": "ii-OpfSma0XU",
        "outputId": "3850ae51-b5ce-414b-81eb-1ff67f9a13bc"
      },
      "execution_count": 13,
      "outputs": [
        {
          "output_type": "stream",
          "name": "stdout",
          "text": [
            "Overwriting Test_fun.py\n"
          ]
        }
      ]
    },
    {
      "cell_type": "code",
      "source": [
        "!python -m pytest Test_fun.py "
      ],
      "metadata": {
        "colab": {
          "base_uri": "https://localhost:8080/"
        },
        "id": "FWOb40uMa53r",
        "outputId": "9b4bd1a3-03b5-4a9d-e454-f58245601648"
      },
      "execution_count": 14,
      "outputs": [
        {
          "output_type": "stream",
          "name": "stdout",
          "text": [
            "\u001b[1m============================= test session starts ==============================\u001b[0m\n",
            "platform linux -- Python 3.7.12, pytest-3.6.4, py-1.11.0, pluggy-0.7.1\n",
            "rootdir: /content, inifile:\n",
            "plugins: typeguard-2.7.1\n",
            "\u001b[1m\rcollecting 0 items                                                             \u001b[0m\u001b[1m\rcollecting 4 items                                                             \u001b[0m\u001b[1m\rcollected 4 items                                                              \u001b[0m\n",
            "\n",
            "Test_fun.py ....\u001b[36m                                                         [100%]\u001b[0m\n",
            "\n",
            "\u001b[32m\u001b[1m=========================== 4 passed in 0.02 seconds ===========================\u001b[0m\n"
          ]
        }
      ]
    },
    {
      "cell_type": "code",
      "source": [
        "%%file MathCreMod.py\n",
        "class Maths:\n",
        "    def add(self,a,b):\n",
        "        return a+b\n",
        "\n",
        "    def sub(self,a,b):\n",
        "        return a-b\n",
        "\n",
        "    def mul(self,a,b):\n",
        "        return a*b"
      ],
      "metadata": {
        "colab": {
          "base_uri": "https://localhost:8080/"
        },
        "id": "iu-BxMmabr6V",
        "outputId": "b55b646e-e61f-4c8d-f071-7595f30c9874"
      },
      "execution_count": 15,
      "outputs": [
        {
          "output_type": "stream",
          "name": "stdout",
          "text": [
            "Writing MathCreMod.py\n"
          ]
        }
      ]
    },
    {
      "cell_type": "code",
      "source": [
        "%%file Test_fun.py\n",
        "import pytest\n",
        "from MathCreMod import Maths\n",
        "def setup_module():\n",
        "  print(\"--------setup-------\")\n",
        "def teardown_module():\n",
        "  print(\"--------teardown-------\")\n",
        "def test_add():\n",
        "   a=24\n",
        "   b=56\n",
        "   m1=Maths()\n",
        "   s=a+b\n",
        "   assert m1.add(a,b)==s\n",
        "\n",
        "def test_mul():\n",
        "   a = 24\n",
        "   b = 56\n",
        "   m1=Maths()\n",
        "   p=a*b\n",
        "   assert m1.mul(a,b)==p"
      ],
      "metadata": {
        "colab": {
          "base_uri": "https://localhost:8080/"
        },
        "id": "zm2z0SwJbKIG",
        "outputId": "6ea3bc70-870e-4d24-e51f-8650d8a6f73d"
      },
      "execution_count": 16,
      "outputs": [
        {
          "output_type": "stream",
          "name": "stdout",
          "text": [
            "Overwriting Test_fun.py\n"
          ]
        }
      ]
    },
    {
      "cell_type": "code",
      "source": [
        "!python -m  pytest -v Test_fun.py "
      ],
      "metadata": {
        "colab": {
          "base_uri": "https://localhost:8080/"
        },
        "id": "Fce90UTAcJLE",
        "outputId": "184a376b-e1aa-4a5c-9ce3-3b825b7e58cd"
      },
      "execution_count": 19,
      "outputs": [
        {
          "output_type": "stream",
          "name": "stdout",
          "text": [
            "\u001b[1m============================= test session starts ==============================\u001b[0m\n",
            "platform linux -- Python 3.7.12, pytest-3.6.4, py-1.11.0, pluggy-0.7.1 -- /usr/bin/python3\n",
            "cachedir: .pytest_cache\n",
            "rootdir: /content, inifile:\n",
            "plugins: typeguard-2.7.1\n",
            "\u001b[1m\rcollecting 0 items                                                             \u001b[0m\u001b[1m\rcollecting 2 items                                                             \u001b[0m\u001b[1m\rcollected 2 items                                                              \u001b[0m\n",
            "\n",
            "Test_fun.py::test_add \u001b[32mPASSED\u001b[0m\u001b[36m                                             [ 50%]\u001b[0m\n",
            "Test_fun.py::test_mul \u001b[32mPASSED\u001b[0m\u001b[36m                                             [100%]\u001b[0m\n",
            "\n",
            "\u001b[32m\u001b[1m=========================== 2 passed in 0.01 seconds ===========================\u001b[0m\n"
          ]
        }
      ]
    },
    {
      "cell_type": "code",
      "source": [
        "%%file Test_fun.py\n",
        "import pytest\n",
        "from MathCreMod import Maths\n",
        "m1=None\n",
        "def setup_module(module):\n",
        "  print(\"--------setup-------\")\n",
        "  global m1\n",
        "  m1=Maths()\n",
        "  print(\"===OBJ CREATED=====\")\n",
        "def teardown_module(module):\n",
        "  print(\"--------teardown-------\")\n",
        "  print(\"===OBJ Destroyed=====\")\n",
        "def test_add():\n",
        "   a=24\n",
        "   b=56\n",
        "   s=a+b\n",
        "   assert m1.add(a,b)==s\n",
        "\n",
        "def test_mul():\n",
        "   a = 24\n",
        "   b = 56\n",
        "   p=a*b\n",
        "   assert m1.mul(a,b)==p"
      ],
      "metadata": {
        "colab": {
          "base_uri": "https://localhost:8080/"
        },
        "id": "OX4vS8KjcWSU",
        "outputId": "a5f5566c-3809-47eb-d5fd-c4c87b1c812d"
      },
      "execution_count": 21,
      "outputs": [
        {
          "output_type": "stream",
          "name": "stdout",
          "text": [
            "Overwriting Test_fun.py\n"
          ]
        }
      ]
    },
    {
      "cell_type": "code",
      "source": [
        "!python -m  pytest -v Test_fun.py "
      ],
      "metadata": {
        "colab": {
          "base_uri": "https://localhost:8080/"
        },
        "id": "yyY4rtoRcdV_",
        "outputId": "51c1eab7-0449-4b24-aabf-ad9501735b7b"
      },
      "execution_count": 22,
      "outputs": [
        {
          "output_type": "stream",
          "name": "stdout",
          "text": [
            "\u001b[1m============================= test session starts ==============================\u001b[0m\n",
            "platform linux -- Python 3.7.12, pytest-3.6.4, py-1.11.0, pluggy-0.7.1 -- /usr/bin/python3\n",
            "cachedir: .pytest_cache\n",
            "rootdir: /content, inifile:\n",
            "plugins: typeguard-2.7.1\n",
            "\u001b[1m\rcollecting 0 items                                                             \u001b[0m\u001b[1m\rcollecting 2 items                                                             \u001b[0m\u001b[1m\rcollected 2 items                                                              \u001b[0m\n",
            "\n",
            "Test_fun.py::test_add \u001b[32mPASSED\u001b[0m\u001b[36m                                             [ 50%]\u001b[0m\n",
            "Test_fun.py::test_mul \u001b[32mPASSED\u001b[0m\u001b[36m                                             [100%]\u001b[0m\n",
            "\n",
            "\u001b[32m\u001b[1m=========================== 2 passed in 0.02 seconds ===========================\u001b[0m\n"
          ]
        }
      ]
    },
    {
      "cell_type": "code",
      "source": [
        "%%file Test_fun.py\n",
        "import pytest\n",
        "from MathCreMod import Maths\n",
        "@pytest.fixture(scope='module')\n",
        "def m1():\n",
        "  print(\"===OBJ CREATED=====\")\n",
        "  m1=Maths()\n",
        "  yield m1\n",
        "  print(\"===OBJ Destroyed=====\")\n",
        "def test_add(m1):\n",
        "   a=24\n",
        "   b=56\n",
        "   s=a+b\n",
        "   assert m1.add(a,b)==s\n",
        "\n",
        "def test_mul(m1):\n",
        "   a = 24\n",
        "   b = 56\n",
        "   p=a*b\n",
        "   assert m1.mul(a,b)==p"
      ],
      "metadata": {
        "colab": {
          "base_uri": "https://localhost:8080/"
        },
        "id": "cQv6oMYxc8Qt",
        "outputId": "c6c362a7-0db1-4c6f-eb67-75c4227652a8"
      },
      "execution_count": 23,
      "outputs": [
        {
          "output_type": "stream",
          "name": "stdout",
          "text": [
            "Overwriting Test_fun.py\n"
          ]
        }
      ]
    },
    {
      "cell_type": "code",
      "source": [
        "!python -m  pytest -v Test_fun.py "
      ],
      "metadata": {
        "colab": {
          "base_uri": "https://localhost:8080/"
        },
        "id": "9Kuc5bNTdWOl",
        "outputId": "ed3c2dc8-44ef-41cc-f8b4-ac1ffac31719"
      },
      "execution_count": 24,
      "outputs": [
        {
          "output_type": "stream",
          "name": "stdout",
          "text": [
            "\u001b[1m============================= test session starts ==============================\u001b[0m\n",
            "platform linux -- Python 3.7.12, pytest-3.6.4, py-1.11.0, pluggy-0.7.1 -- /usr/bin/python3\n",
            "cachedir: .pytest_cache\n",
            "rootdir: /content, inifile:\n",
            "plugins: typeguard-2.7.1\n",
            "\u001b[1m\rcollecting 0 items                                                             \u001b[0m\u001b[1m\rcollecting 2 items                                                             \u001b[0m\u001b[1m\rcollected 2 items                                                              \u001b[0m\n",
            "\n",
            "Test_fun.py::test_add \u001b[32mPASSED\u001b[0m\u001b[36m                                             [ 50%]\u001b[0m\n",
            "Test_fun.py::test_mul \u001b[32mPASSED\u001b[0m\u001b[36m                                             [100%]\u001b[0m\n",
            "\n",
            "\u001b[32m\u001b[1m=========================== 2 passed in 0.02 seconds ===========================\u001b[0m\n"
          ]
        }
      ]
    }
  ]
}