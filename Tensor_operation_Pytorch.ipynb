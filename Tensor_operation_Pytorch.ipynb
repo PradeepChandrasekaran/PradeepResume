{
  "nbformat": 4,
  "nbformat_minor": 0,
  "metadata": {
    "colab": {
      "name": "Tensor_operation_Pytorch.ipynb",
      "provenance": [],
      "authorship_tag": "ABX9TyO3i7L8bO1hU/PJQKTzuQ7e",
      "include_colab_link": true
    },
    "kernelspec": {
      "name": "python3",
      "display_name": "Python 3"
    },
    "language_info": {
      "name": "python"
    }
  },
  "cells": [
    {
      "cell_type": "markdown",
      "metadata": {
        "id": "view-in-github",
        "colab_type": "text"
      },
      "source": [
        "<a href=\"https://colab.research.google.com/github/PradeepChandrasekaran/PradeepResume/blob/main/Tensor_operation_Pytorch.ipynb\" target=\"_parent\"><img src=\"https://colab.research.google.com/assets/colab-badge.svg\" alt=\"Open In Colab\"/></a>"
      ]
    },
    {
      "cell_type": "code",
      "source": [
        "import torch"
      ],
      "metadata": {
        "id": "Dr_0e2jk7B97"
      },
      "execution_count": null,
      "outputs": []
    },
    {
      "cell_type": "code",
      "source": [
        "#1.Reshaping a tensor\n",
        "#refer:https://www.geeksforgeeks.org/reshaping-a-tensor-in-pytorch/\n",
        "tensor_var=torch.arange(1,10);\n",
        "print(tensor_var)\n",
        "print(tensor_var.shape)\n",
        "#a)reshape method ==>tensor_var.reshape(r,c)==>returns reshaped tensor\n",
        "t1=tensor_var.reshape(3,3)\n",
        "print(t1)\n",
        "t2=tensor_var.reshape(9,1)\n",
        "print(t2)"
      ],
      "metadata": {
        "colab": {
          "base_uri": "https://localhost:8080/"
        },
        "id": "GayxcvIL7SFA",
        "outputId": "00845784-a7de-4a5a-8f13-5cbcd066ebb3"
      },
      "execution_count": null,
      "outputs": [
        {
          "output_type": "stream",
          "name": "stdout",
          "text": [
            "tensor([1, 2, 3, 4, 5, 6, 7, 8, 9])\n",
            "torch.Size([9])\n",
            "tensor([[1, 2, 3],\n",
            "        [4, 5, 6],\n",
            "        [7, 8, 9]])\n",
            "tensor([[1],\n",
            "        [2],\n",
            "        [3],\n",
            "        [4],\n",
            "        [5],\n",
            "        [6],\n",
            "        [7],\n",
            "        [8],\n",
            "        [9]])\n"
          ]
        }
      ]
    },
    {
      "cell_type": "code",
      "source": [
        "#flatten() method==>Nd Tensor to 1D tensor\n",
        "tensor_var=torch.tensor([\n",
        "            [1,2,3],\n",
        "            [4,5,6],\n",
        "            [7,8,9]\n",
        "          ])\n",
        "torch.flatten(tensor_var) #tensor_var.flatten()==>return vector\n",
        "print(tensor_var)"
      ],
      "metadata": {
        "colab": {
          "base_uri": "https://localhost:8080/"
        },
        "id": "EknDMn5M-n_7",
        "outputId": "c6d2959e-ac6a-45a5-e12c-696297d83398"
      },
      "execution_count": null,
      "outputs": [
        {
          "output_type": "stream",
          "name": "stdout",
          "text": [
            "tensor([[1, 2, 3],\n",
            "        [4, 5, 6],\n",
            "        [7, 8, 9]])\n"
          ]
        }
      ]
    },
    {
      "cell_type": "code",
      "source": [
        "#c)tensor_var.view(r,c)\n",
        "#refer:https://pytorch.org/docs/stable/generated/torch.Tensor.view.html,\n",
        "#refer:https://stackoverflow.com/questions/50792316/what-does-1-mean-in-pytorch-view\n",
        "#vector\n",
        "tensor_var=torch.arange(16)\n",
        "print(tensor_var,tensor_var.size())\n",
        "\n",
        "tensor_var=tensor_var.view(4,4)\n",
        "print(tensor_var,tensor_var.size())\n",
        "\n",
        "tensor_var=tensor_var.view(-1,8)\n",
        "print(tensor_var,tensor_var.size())\n",
        "\n",
        "tensor_var=tensor_var.view(4,-1)\n",
        "print(tensor_var,tensor_var.size())\n",
        "\n",
        "tensor_var=tensor_var.view(-1)\n",
        "print(tensor_var,tensor_var.size())\n",
        "\n"
      ],
      "metadata": {
        "colab": {
          "base_uri": "https://localhost:8080/"
        },
        "id": "PTIiYNZKAGqL",
        "outputId": "faccb255-d71d-492d-fb3a-bf9f40475b24"
      },
      "execution_count": null,
      "outputs": [
        {
          "output_type": "stream",
          "name": "stdout",
          "text": [
            "tensor([ 0,  1,  2,  3,  4,  5,  6,  7,  8,  9, 10, 11, 12, 13, 14, 15]) torch.Size([16])\n",
            "tensor([[ 0,  1,  2,  3],\n",
            "        [ 4,  5,  6,  7],\n",
            "        [ 8,  9, 10, 11],\n",
            "        [12, 13, 14, 15]]) torch.Size([4, 4])\n",
            "tensor([[ 0,  1,  2,  3,  4,  5,  6,  7],\n",
            "        [ 8,  9, 10, 11, 12, 13, 14, 15]]) torch.Size([2, 8])\n",
            "tensor([[ 0,  1,  2,  3],\n",
            "        [ 4,  5,  6,  7],\n",
            "        [ 8,  9, 10, 11],\n",
            "        [12, 13, 14, 15]]) torch.Size([4, 4])\n",
            "tensor([ 0,  1,  2,  3,  4,  5,  6,  7,  8,  9, 10, 11, 12, 13, 14, 15]) torch.Size([16])\n"
          ]
        }
      ]
    },
    {
      "cell_type": "code",
      "source": [
        "#tensor_var.resize_()\n",
        "tensor_var=torch.arange(16)\n",
        "print(tensor_var.resize_(1,2,8))"
      ],
      "metadata": {
        "colab": {
          "base_uri": "https://localhost:8080/"
        },
        "id": "2RpI1ZIQJIXN",
        "outputId": "7d092ce1-a9cc-4096-f492-a17d1ff2196b"
      },
      "execution_count": null,
      "outputs": [
        {
          "output_type": "stream",
          "name": "stdout",
          "text": [
            "tensor([[[ 0,  1,  2,  3,  4,  5,  6,  7],\n",
            "         [ 8,  9, 10, 11, 12, 13, 14, 15]]])\n"
          ]
        }
      ]
    },
    {
      "cell_type": "code",
      "source": [
        "#squeeze==>reducing all its dimensions of inputs having size 1.\n",
        "tensor_var=torch.tensor([[[[[0.],\n",
        "[0.]]],\n",
        "\n",
        "\n",
        "[[[0.],\n",
        "[0.]]]]])\n",
        "print(tensor_var.shape)\n",
        "torch.squeeze(tensor_var),torch.squeeze(tensor_var).shape"
      ],
      "metadata": {
        "colab": {
          "base_uri": "https://localhost:8080/"
        },
        "id": "rOrDu14lJuQz",
        "outputId": "1bf82688-459d-4bd8-b99c-a1ad7be74d81"
      },
      "execution_count": null,
      "outputs": [
        {
          "output_type": "stream",
          "name": "stdout",
          "text": [
            "torch.Size([1, 2, 1, 2, 1])\n"
          ]
        },
        {
          "output_type": "execute_result",
          "data": {
            "text/plain": [
              "(tensor([[0., 0.],\n",
              "         [0., 0.]]), torch.Size([2, 2]))"
            ]
          },
          "metadata": {},
          "execution_count": 39
        }
      ]
    },
    {
      "cell_type": "code",
      "source": [
        "#unsqueeze==>add dim at given position\n",
        "tensor_var=torch.arange(5)\n",
        "print(tensor_var,tensor_var.shape)\n",
        "print(torch.unsqueeze(tensor_var,0))\n",
        "print(torch.unsqueeze(tensor_var,1))"
      ],
      "metadata": {
        "colab": {
          "base_uri": "https://localhost:8080/"
        },
        "id": "eJlrHMZLPze9",
        "outputId": "94ed72ed-b6d8-4907-b807-496703d76bb3"
      },
      "execution_count": null,
      "outputs": [
        {
          "output_type": "stream",
          "name": "stdout",
          "text": [
            "tensor([0, 1, 2, 3, 4]) torch.Size([5])\n",
            "tensor([[0, 1, 2, 3, 4]])\n",
            "tensor([[0],\n",
            "        [1],\n",
            "        [2],\n",
            "        [3],\n",
            "        [4]])\n"
          ]
        }
      ]
    },
    {
      "cell_type": "code",
      "source": [
        "#matrix multiplication \n",
        "#ref:https://www.geeksforgeeks.org/python-matrix-multiplication-using-pytorch/\n",
        "#1)mm==>the matrix must be in same shape\n",
        "mat1=torch.rand(3,4) \n",
        "mat2=torch.rand(4,3)\n",
        "print(torch.mm(mat1,mat2),torch.mm(mat1,mat2).shape) "
      ],
      "metadata": {
        "colab": {
          "base_uri": "https://localhost:8080/"
        },
        "id": "TZuMZnkuTz4-",
        "outputId": "6fda4b23-6c8a-43b9-88ce-b42ebd0035b0"
      },
      "execution_count": null,
      "outputs": [
        {
          "output_type": "stream",
          "name": "stdout",
          "text": [
            "tensor([[1.4680, 2.1072, 1.8932],\n",
            "        [1.3905, 1.5624, 1.5121],\n",
            "        [1.4995, 1.6706, 1.0445]]) torch.Size([3, 3])\n"
          ]
        }
      ]
    },
    {
      "cell_type": "code",
      "source": [
        "#matmaul\n",
        "#matrix with 2 1d \n",
        "mat1=torch.tensor([1,2,3,4])\n",
        "mat2=torch.tensor([5,6,7,8])\n",
        "print(torch.matmul(mat1,mat2),torch.matmul(mat1,mat2).shape)\n",
        "#matrix with 1d and 2d\n",
        "mat1_1 = torch.tensor([3, 6, 2])\n",
        "  \n",
        "mat1_2 = torch.tensor([[1, 2, 3],\n",
        "                       [4, 3, 8],\n",
        "                       [1, 7, 2]])\n",
        "  \n",
        "print(torch.matmul(mat1_1, mat1_2))"
      ],
      "metadata": {
        "colab": {
          "base_uri": "https://localhost:8080/"
        },
        "id": "GOecNaQdVBFr",
        "outputId": "52c298e1-4019-4fc6-a1a1-f5a762cd8d66"
      },
      "execution_count": null,
      "outputs": [
        {
          "output_type": "stream",
          "name": "stdout",
          "text": [
            "tensor(70) torch.Size([])\n",
            "tensor([29, 38, 61])\n"
          ]
        }
      ]
    },
    {
      "cell_type": "code",
      "source": [
        "#expand()\n",
        "#ref:https://www.tutorialspoint.com/how-to-perform-an-expand-operation-in-pytorch\n",
        "tensor_var1=torch.tensor([[1],[2],[3]])\n",
        "print(tensor_var1.shape)\n",
        "tensor_var1=tensor_var.expand(3,4)\n",
        "print(tensor_var1,tensor_var1.shape)\n",
        "\n",
        "tensor_var1=torch.tensor([1,2,3])\n",
        "tensor_var1=tensor_var1.expand(5,-1)\n",
        "print(tensor_var1,tensor_var1.shape)"
      ],
      "metadata": {
        "colab": {
          "base_uri": "https://localhost:8080/"
        },
        "id": "oEG2CpnRRJ0H",
        "outputId": "053858d4-e97d-4a1e-ee60-836ade5f0c37"
      },
      "execution_count": null,
      "outputs": [
        {
          "output_type": "stream",
          "name": "stdout",
          "text": [
            "torch.Size([3, 1])\n",
            "tensor([[1, 1, 1, 1],\n",
            "        [2, 2, 2, 2],\n",
            "        [3, 3, 3, 3]]) torch.Size([3, 4])\n",
            "tensor([[1, 2, 3],\n",
            "        [1, 2, 3],\n",
            "        [1, 2, 3],\n",
            "        [1, 2, 3],\n",
            "        [1, 2, 3]]) torch.Size([5, 3])\n"
          ]
        }
      ]
    },
    {
      "cell_type": "code",
      "source": [
        "#narrow\n",
        "tensor_var=torch.tensor([[1,2,3],\n",
        "              [4,5,6],\n",
        "              [7,8,9]])\n",
        "print(torch.narrow(tensor_var,0,0,3))\n",
        "print(torch.narrow(tensor_var,0,1,2))\n",
        "\n",
        "print(torch.narrow(tensor_var,1,0,2))\n",
        "print(torch.narrow(tensor_var,1,1,2))\n",
        "\n"
      ],
      "metadata": {
        "colab": {
          "base_uri": "https://localhost:8080/"
        },
        "id": "VpTGtC1qfYWu",
        "outputId": "b1e38567-9c5f-421f-fa31-8c9ad8bab7db"
      },
      "execution_count": null,
      "outputs": [
        {
          "output_type": "stream",
          "name": "stdout",
          "text": [
            "tensor([[1, 2, 3],\n",
            "        [4, 5, 6],\n",
            "        [7, 8, 9]])\n",
            "tensor([[4, 5, 6],\n",
            "        [7, 8, 9]])\n",
            "tensor([[1, 2],\n",
            "        [4, 5],\n",
            "        [7, 8]])\n",
            "tensor([[2, 3],\n",
            "        [5, 6],\n",
            "        [8, 9]])\n"
          ]
        }
      ]
    },
    {
      "cell_type": "code",
      "source": [
        "#permute\n",
        "tensor_var=torch.tensor([[1,2],[3,4],[5,6]])\n",
        "print(tensor_var.shape)\n",
        "tensor_var=torch.permute(tensor_var,(1,0))\n",
        "print(tensor_var,tensor_var.shape)\n"
      ],
      "metadata": {
        "colab": {
          "base_uri": "https://localhost:8080/"
        },
        "id": "44OkRAe6n9Rj",
        "outputId": "3f035a4a-9007-483a-f86d-5c317a074f85"
      },
      "execution_count": null,
      "outputs": [
        {
          "output_type": "stream",
          "name": "stdout",
          "text": [
            "torch.Size([3, 2])\n",
            "tensor([[1, 3, 5],\n",
            "        [2, 4, 6]]) torch.Size([2, 3])\n"
          ]
        }
      ]
    },
    {
      "cell_type": "code",
      "source": [
        "import torch\n",
        "#1)add(tensor1,tensor*,alpha==>multipler which multiplies with tensor2*)\n",
        "t1=torch.tensor([1,2,3,4])\n",
        "print(t1)\n",
        "print(torch.add(t1,10))\n",
        "print(torch.add(t1,10,alpha=10))\n",
        "t2=torch.rand(4,1)\n",
        "torch.add(t1,t2)"
      ],
      "metadata": {
        "colab": {
          "base_uri": "https://localhost:8080/"
        },
        "id": "Wnt_OYqy7mdI",
        "outputId": "3418906e-c264-4769-90a0-5fb898d3086c"
      },
      "execution_count": 7,
      "outputs": [
        {
          "output_type": "stream",
          "name": "stdout",
          "text": [
            "tensor([1, 2, 3, 4])\n",
            "tensor([11, 12, 13, 14])\n",
            "tensor([101, 102, 103, 104])\n"
          ]
        },
        {
          "output_type": "execute_result",
          "data": {
            "text/plain": [
              "tensor([[1.6993, 2.6993, 3.6993, 4.6993],\n",
              "        [1.1815, 2.1815, 3.1815, 4.1815],\n",
              "        [1.2955, 2.2955, 3.2955, 4.2955],\n",
              "        [1.0077, 2.0077, 3.0077, 4.0077]])"
            ]
          },
          "metadata": {},
          "execution_count": 7
        }
      ]
    },
    {
      "cell_type": "code",
      "source": [
        "#2)add_ ==> add with in place  \n",
        "a = torch.tensor([[1,1],[1,1]])\n",
        "b = torch.tensor(2)\n",
        "c = torch.tensor(3)\n",
        "a.add_(b,alpha=3)\n",
        "print(a)"
      ],
      "metadata": {
        "colab": {
          "base_uri": "https://localhost:8080/"
        },
        "id": "SEgtBYZH90K6",
        "outputId": "70bb9531-945a-487d-fba7-b50faf02bc60"
      },
      "execution_count": 15,
      "outputs": [
        {
          "output_type": "stream",
          "name": "stdout",
          "text": [
            "tensor([[7, 7],\n",
            "        [7, 7]])\n"
          ]
        }
      ]
    },
    {
      "cell_type": "code",
      "source": [
        "#cat\n",
        "t1=torch.tensor([[1,2],\n",
        "              [3,4]])\n",
        "t2=torch.tensor([[9,4],\n",
        "              [8,5]])\n",
        "print(t1)\n",
        "t3=torch.cat((t1,t2),dim=0)\n",
        "print(t3)\n",
        "t3=torch.cat((t1,t2),dim=1)\n",
        "print(t3)"
      ],
      "metadata": {
        "colab": {
          "base_uri": "https://localhost:8080/"
        },
        "id": "kkz8gU45-a36",
        "outputId": "f1d90595-6def-4abd-b2ae-361180175226"
      },
      "execution_count": 21,
      "outputs": [
        {
          "output_type": "stream",
          "name": "stdout",
          "text": [
            "tensor([[1, 2],\n",
            "        [3, 4]])\n",
            "tensor([[1, 2],\n",
            "        [3, 4],\n",
            "        [9, 4],\n",
            "        [8, 5]])\n",
            "tensor([[1, 2, 9, 4],\n",
            "        [3, 4, 8, 5]])\n"
          ]
        }
      ]
    },
    {
      "cell_type": "markdown",
      "source": [
        "STACK"
      ],
      "metadata": {
        "id": "9_v0E7PlEIB6"
      }
    },
    {
      "cell_type": "code",
      "source": [
        "#1D TENSOR\n",
        "t1=torch.rand(5)\n",
        "t2=torch.rand(5)\n",
        "torch.stack((t1,t2),dim=0),torch.stack((t1,t2),dim=1)"
      ],
      "metadata": {
        "colab": {
          "base_uri": "https://localhost:8080/"
        },
        "id": "Np-xT4fqCIPs",
        "outputId": "04da6649-97fd-4e2e-cb63-04bc37b80c76"
      },
      "execution_count": 23,
      "outputs": [
        {
          "output_type": "execute_result",
          "data": {
            "text/plain": [
              "(tensor([[0.2402, 0.4902, 0.2986, 0.4896, 0.8011],\n",
              "         [0.8402, 0.8239, 0.3081, 0.7673, 0.9500]]), tensor([[0.2402, 0.8402],\n",
              "         [0.4902, 0.8239],\n",
              "         [0.2986, 0.3081],\n",
              "         [0.4896, 0.7673],\n",
              "         [0.8011, 0.9500]]))"
            ]
          },
          "metadata": {},
          "execution_count": 23
        }
      ]
    },
    {
      "cell_type": "code",
      "source": [
        "#2d tensor for stack\n",
        "t1=torch.tensor([[1,2,7],\n",
        "              [3,4,8]])\n",
        "t2=torch.tensor([[9,4,9],\n",
        "              [8,5,1]])\n",
        "print(torch.stack((t1,t2),dim=0),\"\\n\",torch.stack((t1,t2),dim=1),\"\\n\",torch.stack((t1,t2),dim=2))"
      ],
      "metadata": {
        "colab": {
          "base_uri": "https://localhost:8080/"
        },
        "id": "XQPh2TyNEQIL",
        "outputId": "abb00303-3b80-4e11-c923-b137184932a0"
      },
      "execution_count": 25,
      "outputs": [
        {
          "output_type": "stream",
          "name": "stdout",
          "text": [
            "tensor([[[1, 2, 7],\n",
            "         [3, 4, 8]],\n",
            "\n",
            "        [[9, 4, 9],\n",
            "         [8, 5, 1]]]) \n",
            " tensor([[[1, 2, 7],\n",
            "         [9, 4, 9]],\n",
            "\n",
            "        [[3, 4, 8],\n",
            "         [8, 5, 1]]]) \n",
            " tensor([[[1, 9],\n",
            "         [2, 4],\n",
            "         [7, 9]],\n",
            "\n",
            "        [[3, 8],\n",
            "         [4, 5],\n",
            "         [8, 1]]])\n"
          ]
        }
      ]
    }
  ]
}